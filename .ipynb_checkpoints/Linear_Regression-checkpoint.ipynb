{
 "cells": [
  {
   "cell_type": "code",
   "execution_count": 3,
   "id": "ba8fc9d9",
   "metadata": {},
   "outputs": [],
   "source": [
    "import numpy as np\n",
    "from sklearn.linear_model import LinearRegression"
   ]
  },
  {
   "cell_type": "code",
   "execution_count": 4,
   "id": "a5c91b4c",
   "metadata": {},
   "outputs": [],
   "source": [
    "x1 = np.array(list(range(10))).reshape(-1, 1)\n",
    "x2 = np.array(list(range(0, 100, 10))).reshape(-1, 1)\n"
   ]
  },
  {
   "cell_type": "code",
   "execution_count": 5,
   "id": "3f91ab07",
   "metadata": {},
   "outputs": [],
   "source": [
    "w1_true = 2\n",
    "w2_true = 5\n",
    "\n",
    "X = np.concatenate([x1, x2], axis=1).astype(float)\n",
    "W_true = np.array([w1_true, w2_true]).reshape(-1, 1)\n",
    "\n",
    "y_true = np.matmul(X, W_true)\n",
    "N = len(y_true)"
   ]
  },
  {
   "cell_type": "markdown",
   "id": "34a7d336",
   "metadata": {},
   "source": [
    "# Linear Regression"
   ]
  },
  {
   "cell_type": "markdown",
   "id": "94253832",
   "metadata": {},
   "source": [
    "Cost = 1/N * $\\Sigma_{i=1}^m (y\\_pred^{(i)} - y\\_true^{(i)})^2$"
   ]
  },
  {
   "cell_type": "code",
   "execution_count": 81,
   "id": "b0a9cb9a",
   "metadata": {},
   "outputs": [],
   "source": [
    "class CLinearRegression:\n",
    "    def __init__(self):\n",
    "        self.W = None\n",
    "        \n",
    "    \n",
    "    def normalize(self, X):\n",
    "        for i in range(X.shape[1]):\n",
    "            mean = np.mean(X[:, i])\n",
    "            X[:, i] = X[:, i] - mean\n",
    "        return X\n",
    "    \n",
    "    # gradient_descent\n",
    "    def fit(self, X, y_true, lr=0.001, normalize=False):\n",
    "        '''\n",
    "        Parameters\n",
    "        ---------------\n",
    "        X : array\n",
    "            Input array of size m X n, where m is the total number of training samples, and n is the total\n",
    "            number of input features.\n",
    "        \n",
    "        y_true : array\n",
    "            True Values for each sample.\n",
    "        \n",
    "        W : array\n",
    "            The weights/coefficients, corresponding to each input feature, to be trained using Gradient Descent.\n",
    "        \n",
    "        lr : float\n",
    "            lr is Learning Rate, the rate at which we decrease our weights.\n",
    "            \n",
    "        normalize : boolean\n",
    "            Normalize the input samples, X, or not.\n",
    "        '''\n",
    "        # Adding 1 dimension for the intercept W0\n",
    "        W = np.zeros(X.shape[1]+1).reshape(-1, 1)\n",
    "        \n",
    "        if normalize:\n",
    "            X = self.normalize(X)\n",
    "            \n",
    "        # Storing our predictions\n",
    "        y_pred = np.zeros(len(y_true)).reshape(-1, 1)\n",
    "        \n",
    "        # Adding 1's for the intercept\n",
    "        X = np.concatenate([np.ones(len(X)).reshape(-1, 1), X], axis=1)\n",
    "        # Number of Gradient Descent steps(iterations) to take\n",
    "        for i in range(100):\n",
    "            \n",
    "            # Predictions for each sample\n",
    "            y_pred = np.matmul(X, W)\n",
    "            \n",
    "            # The error\n",
    "            error = y_pred - y_true\n",
    "            \n",
    "            # Cost to be minimized\n",
    "            cost = (1/(2*N)) * (np.sum(error ** 2))\n",
    "#             if i % 10 == 0:\n",
    "#                 print(f'Cost ar iteration {i} is {round(cost, 3)}')\n",
    "            \n",
    "            # Derivative of the cost\n",
    "            weight_ch = np.matmul(error[:, 0], X).reshape(-1, 1)\n",
    "            W -= lr * weight_ch\n",
    "\n",
    "        self.W = W\n",
    "        return self\n",
    "    \n",
    "    def predict(self, X_test):\n",
    "        return np.matmul(X_test, self.W)"
   ]
  },
  {
   "cell_type": "code",
   "execution_count": null,
   "id": "9a3135fe",
   "metadata": {},
   "outputs": [],
   "source": []
  },
  {
   "cell_type": "code",
   "execution_count": 82,
   "id": "bdac071e",
   "metadata": {},
   "outputs": [
    {
     "data": {
      "text/plain": [
       "<__main__.CLinearRegression at 0x7fe441b3c5b0>"
      ]
     },
     "execution_count": 82,
     "metadata": {},
     "output_type": "execute_result"
    }
   ],
   "source": [
    "lr = 0.00001\n",
    "X_copy = X.copy()\n",
    "clr = CLinearRegression()\n",
    "clr.fit(X_copy, y_true, lr)"
   ]
  },
  {
   "cell_type": "code",
   "execution_count": null,
   "id": "4fe6f2c3",
   "metadata": {},
   "outputs": [],
   "source": []
  }
 ],
 "metadata": {
  "kernelspec": {
   "display_name": "Python 3",
   "language": "python",
   "name": "python3"
  },
  "language_info": {
   "codemirror_mode": {
    "name": "ipython",
    "version": 3
   },
   "file_extension": ".py",
   "mimetype": "text/x-python",
   "name": "python",
   "nbconvert_exporter": "python",
   "pygments_lexer": "ipython3",
   "version": "3.8.8"
  }
 },
 "nbformat": 4,
 "nbformat_minor": 5
}
